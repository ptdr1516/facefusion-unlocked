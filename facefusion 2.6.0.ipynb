{
  "nbformat": 4,
  "nbformat_minor": 0,
  "metadata": {
    "colab": {
      "provenance": [],
      "gpuType": "T4"
    },
    "kernelspec": {
      "name": "python3",
      "display_name": "Python 3"
    },
    "language_info": {
      "name": "python"
    },
    "accelerator": "GPU"
  },
  "cells": [
    {
      "cell_type": "code",
      "execution_count": null,
      "metadata": {
        "id": "XaqO7feu9sAw"
      },
      "outputs": [],
      "source": [
        "from IPython.display import clear_output\n",
        "import codecs\n",
        "import torch\n",
        "\n",
        "if torch.cuda.is_available():\n",
        "  device=\"cuda\"\n",
        "  !apt-get install nvidia-cuda-toolkit\n",
        "  print(\"Using GPU\")\n",
        "else:\n",
        "  device=\"cpu\"\n",
        "  print(\"Using CPU\")\n",
        "\n",
        "giturl = codecs.decode('uggcf://tvguho.pbz/snprshfvba/snprshfvba.tvg','rot_13')\n",
        "gitdir = codecs.decode('snprshfvba','rot_13')\n",
        "!git clone {giturl}\n",
        "%cd /content/{gitdir}\n",
        "!python install.py --onnxruntime cuda-11.8 --skip-conda\n",
        "\n",
        "clear_output()\n",
        "print(\"Installed!\")"
      ]
    },
    {
      "cell_type": "code",
      "source": [
        "import codecs\n",
        "gitdir = codecs.decode('snprshfvba','rot_13')\n",
        "%cd /content/{gitdir}\n",
        "\n",
        "if device==\"cuda\":\n",
        "  !python run.py --execution-providers cpu cuda\n",
        "else:\n",
        "  !python run.py --execution-providers cpu"
      ],
      "metadata": {
        "id": "996UKUjT-BEu"
      },
      "execution_count": null,
      "outputs": []
    },
    {
      "cell_type": "code",
      "source": [
        "!npm install -g localtunnel\n",
        "import subprocess\n",
        "import threading\n",
        "import time\n",
        "import socket\n",
        "import urllib.request\n",
        "def iframe_thread(port):\n",
        "    while True:\n",
        "        time.sleep(0.5)\n",
        "        sock= socket.socket(socket.AF_INET, socket.SOCK_STREAM)\n",
        "        result = sock.connect_ex(('127.0.0.1', port))\n",
        "        if result == 0:\n",
        "            break\n",
        "        sock.close()\n",
        "\n",
        "        from colorama import Fore, Style\n",
        "    print (Fore.GREEN + \"\\nIP: \", Fore. RED, urllib.request.urlopen('https://ipv4.icanhazip.com').read().decode('utf8').strip(\"\\n\"), \"\\n\", Style. RESET_ALL)\n",
        "    p = subprocess.Popen([\"lt\", \"--port\", \"{}\".format(port)], stdout=subprocess.PIPE)\n",
        "    for line in p.stdout:\n",
        "        print(line.decode(), end='')\n",
        "threading.Thread (target=iframe_thread, daemon=True, args=(7860,)).start()\n",
        "\n",
        "\n",
        "\n",
        "\n",
        "!python run.py"
      ],
      "metadata": {
        "id": "WyELkRnM9EK1"
      },
      "execution_count": null,
      "outputs": []
    },
    {
      "cell_type": "code",
      "source": [
        "!pip install colorama"
      ],
      "metadata": {
        "id": "AdKoCHKA9NpU"
      },
      "execution_count": null,
      "outputs": []
    }
  ]
}